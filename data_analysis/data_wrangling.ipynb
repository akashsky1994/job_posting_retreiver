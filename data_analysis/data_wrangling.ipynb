{
 "cells": [
  {
   "cell_type": "code",
   "execution_count": 153,
   "metadata": {},
   "outputs": [],
   "source": [
    "import pandas as pd\n",
    "from sqlalchemy import create_engine  \n",
    "from sqlalchemy import text\n"
   ]
  },
  {
   "cell_type": "code",
   "execution_count": 154,
   "metadata": {},
   "outputs": [],
   "source": [
    "engine = create_engine(\"dsn\") # replace this with db conn uri  \n",
    "with engine.connect() as conn, conn.begin():  \n",
    "    data = pd.read_sql_query(\"select id,job_title,job_link,locations,created_at,source from job_listings\",conn)"
   ]
  },
  {
   "cell_type": "code",
   "execution_count": 155,
   "metadata": {},
   "outputs": [
    {
     "data": {
      "text/html": [
       "<div>\n",
       "<style scoped>\n",
       "    .dataframe tbody tr th:only-of-type {\n",
       "        vertical-align: middle;\n",
       "    }\n",
       "\n",
       "    .dataframe tbody tr th {\n",
       "        vertical-align: top;\n",
       "    }\n",
       "\n",
       "    .dataframe thead th {\n",
       "        text-align: right;\n",
       "    }\n",
       "</style>\n",
       "<table border=\"1\" class=\"dataframe\">\n",
       "  <thead>\n",
       "    <tr style=\"text-align: right;\">\n",
       "      <th></th>\n",
       "      <th>id</th>\n",
       "      <th>job_title</th>\n",
       "      <th>job_link</th>\n",
       "      <th>locations</th>\n",
       "      <th>created_at</th>\n",
       "      <th>source</th>\n",
       "    </tr>\n",
       "  </thead>\n",
       "  <tbody>\n",
       "    <tr>\n",
       "      <th>0</th>\n",
       "      <td>730146</td>\n",
       "      <td>Sales Engineering Manager</td>\n",
       "      <td>https://jobs.smartrecruiters.com/Zscaler/74399...</td>\n",
       "      <td>[Cleveland]</td>\n",
       "      <td>2023-09-15 00:01:16.981078+00:00</td>\n",
       "      <td>trueup</td>\n",
       "    </tr>\n",
       "    <tr>\n",
       "      <th>1</th>\n",
       "      <td>1</td>\n",
       "      <td>Senior Software Engineer</td>\n",
       "      <td>https://boards.greenhouse.io/2k/jobs/5713141003</td>\n",
       "      <td>[San Francisco, CA, USA]</td>\n",
       "      <td>2023-08-14 23:30:51.155051+00:00</td>\n",
       "      <td>simplify</td>\n",
       "    </tr>\n",
       "    <tr>\n",
       "      <th>2</th>\n",
       "      <td>105554</td>\n",
       "      <td>Senior Software Engineer - Mexico</td>\n",
       "      <td>https://boards.greenhouse.io/nubank/jobs/4884703</td>\n",
       "      <td>[Mexico, Mexico City]</td>\n",
       "      <td>2023-08-17 05:16:33.505932+00:00</td>\n",
       "      <td>trueup</td>\n",
       "    </tr>\n",
       "    <tr>\n",
       "      <th>3</th>\n",
       "      <td>57465</td>\n",
       "      <td>Senior Security Engineer</td>\n",
       "      <td>https://boards.greenhouse.io/aurorainnovation/...</td>\n",
       "      <td>[Mountain View, CA, USA]</td>\n",
       "      <td>2023-08-16 00:00:51.397802+00:00</td>\n",
       "      <td>simplify</td>\n",
       "    </tr>\n",
       "    <tr>\n",
       "      <th>4</th>\n",
       "      <td>6551</td>\n",
       "      <td>Senior Software Engineer</td>\n",
       "      <td>https://jobs.lever.co/localfoodgroup/5db55467-...</td>\n",
       "      <td>[San Francisco, CA, USA]</td>\n",
       "      <td>2023-08-14 23:31:07.164960+00:00</td>\n",
       "      <td>simplify</td>\n",
       "    </tr>\n",
       "  </tbody>\n",
       "</table>\n",
       "</div>"
      ],
      "text/plain": [
       "       id                          job_title  \\\n",
       "0  730146          Sales Engineering Manager   \n",
       "1       1           Senior Software Engineer   \n",
       "2  105554  Senior Software Engineer - Mexico   \n",
       "3   57465           Senior Security Engineer   \n",
       "4    6551           Senior Software Engineer   \n",
       "\n",
       "                                            job_link  \\\n",
       "0  https://jobs.smartrecruiters.com/Zscaler/74399...   \n",
       "1    https://boards.greenhouse.io/2k/jobs/5713141003   \n",
       "2   https://boards.greenhouse.io/nubank/jobs/4884703   \n",
       "3  https://boards.greenhouse.io/aurorainnovation/...   \n",
       "4  https://jobs.lever.co/localfoodgroup/5db55467-...   \n",
       "\n",
       "                  locations                       created_at    source  \n",
       "0               [Cleveland] 2023-09-15 00:01:16.981078+00:00    trueup  \n",
       "1  [San Francisco, CA, USA] 2023-08-14 23:30:51.155051+00:00  simplify  \n",
       "2     [Mexico, Mexico City] 2023-08-17 05:16:33.505932+00:00    trueup  \n",
       "3  [Mountain View, CA, USA] 2023-08-16 00:00:51.397802+00:00  simplify  \n",
       "4  [San Francisco, CA, USA] 2023-08-14 23:31:07.164960+00:00  simplify  "
      ]
     },
     "execution_count": 155,
     "metadata": {},
     "output_type": "execute_result"
    }
   ],
   "source": [
    "data.head()"
   ]
  },
  {
   "cell_type": "code",
   "execution_count": 156,
   "metadata": {},
   "outputs": [],
   "source": [
    "import re\n",
    "from urllib.parse import urlencode, urlparse, urlunparse, parse_qs"
   ]
  },
  {
   "cell_type": "code",
   "execution_count": 157,
   "metadata": {},
   "outputs": [],
   "source": [
    "def strip_query_params(url, keys):\n",
    "    u = urlparse(url)\n",
    "    query = parse_qs(u.query, keep_blank_values=True)\n",
    "    if type(keys) is list:\n",
    "        for key in keys:\n",
    "            query.pop(key, None)\n",
    "        encoded_query = urlencode(query, True)\n",
    "    elif keys==-1:    \n",
    "        encoded_query = \"\"\n",
    "    u = u._replace(query=encoded_query)\n",
    "    return urlunparse(u)"
   ]
  },
  {
   "cell_type": "code",
   "execution_count": 158,
   "metadata": {},
   "outputs": [],
   "source": [
    "def clean_url(url):\n",
    "    pattern = re.compile(\"^https://jobs.lever.co/|https://boards.greenhouse.io/|https://jobs.ashbyhq.com/\")\n",
    "    if pattern.search(url) is not None:\n",
    "        return strip_query_params(url,-1)\n",
    "    return strip_query_params(url,[\"lever-origin\", \"lever-source\", \"lever-source[]\", \"source\", \"gh_src\",\"utm_campaign\",\"utm_content\",\"utm_medium\",\"utm_term\",\"utm_source\",\"iis\",\"iisn\"])\n",
    "        "
   ]
  },
  {
   "cell_type": "code",
   "execution_count": 159,
   "metadata": {},
   "outputs": [],
   "source": [
    "data['job_link'] = data['job_link'].apply(clean_url)"
   ]
  },
  {
   "cell_type": "code",
   "execution_count": 160,
   "metadata": {},
   "outputs": [
    {
     "data": {
      "text/plain": [
       "47733"
      ]
     },
     "execution_count": 160,
     "metadata": {},
     "output_type": "execute_result"
    }
   ],
   "source": [
    "data['job_link'].count()"
   ]
  },
  {
   "cell_type": "code",
   "execution_count": 161,
   "metadata": {},
   "outputs": [
    {
     "data": {
      "text/plain": [
       "47733"
      ]
     },
     "execution_count": 161,
     "metadata": {},
     "output_type": "execute_result"
    }
   ],
   "source": [
    "len(data['job_link'].unique())"
   ]
  },
  {
   "cell_type": "code",
   "execution_count": 162,
   "metadata": {},
   "outputs": [
    {
     "data": {
      "text/html": [
       "<div>\n",
       "<style scoped>\n",
       "    .dataframe tbody tr th:only-of-type {\n",
       "        vertical-align: middle;\n",
       "    }\n",
       "\n",
       "    .dataframe tbody tr th {\n",
       "        vertical-align: top;\n",
       "    }\n",
       "\n",
       "    .dataframe thead th {\n",
       "        text-align: right;\n",
       "    }\n",
       "</style>\n",
       "<table border=\"1\" class=\"dataframe\">\n",
       "  <thead>\n",
       "    <tr style=\"text-align: right;\">\n",
       "      <th></th>\n",
       "      <th>id</th>\n",
       "      <th>job_title</th>\n",
       "      <th>job_link</th>\n",
       "      <th>locations</th>\n",
       "      <th>created_at</th>\n",
       "      <th>source</th>\n",
       "    </tr>\n",
       "  </thead>\n",
       "  <tbody>\n",
       "  </tbody>\n",
       "</table>\n",
       "</div>"
      ],
      "text/plain": [
       "Empty DataFrame\n",
       "Columns: [id, job_title, job_link, locations, created_at, source]\n",
       "Index: []"
      ]
     },
     "execution_count": 162,
     "metadata": {},
     "output_type": "execute_result"
    }
   ],
   "source": [
    "data[data['job_link'].duplicated()].sort_values(\"id\")\n"
   ]
  },
  {
   "cell_type": "code",
   "execution_count": 163,
   "metadata": {},
   "outputs": [],
   "source": [
    "to_be_deleted = data[data['job_link'].duplicated()]['id'].astype(str).values.tolist()"
   ]
  },
  {
   "cell_type": "code",
   "execution_count": 164,
   "metadata": {},
   "outputs": [],
   "source": [
    "sql_query = \"DELETE FROM job_listings WHERE id in ({})\".format(\",\".join(to_be_deleted))"
   ]
  },
  {
   "cell_type": "code",
   "execution_count": 165,
   "metadata": {},
   "outputs": [
    {
     "data": {
      "text/plain": [
       "'DELETE FROM job_listings WHERE id in ()'"
      ]
     },
     "execution_count": 165,
     "metadata": {},
     "output_type": "execute_result"
    }
   ],
   "source": [
    "sql_query"
   ]
  },
  {
   "cell_type": "code",
   "execution_count": null,
   "metadata": {},
   "outputs": [],
   "source": [
    "with engine.connect() as conn:\n",
    "    result = conn.execute(text(sql_query))\n",
    "    conn.commit()   "
   ]
  },
  {
   "cell_type": "code",
   "execution_count": 167,
   "metadata": {},
   "outputs": [],
   "source": [
    "with engine.connect() as conn:\n",
    "    sql_query = text('''UPDATE job_listings SET job_link=:job_link WHERE id=:id''')\n",
    "    conn.execute(sql_query,data[['id','job_link']].to_dict('records'))\n",
    "    conn.commit()"
   ]
  },
  {
   "cell_type": "code",
   "execution_count": 187,
   "metadata": {},
   "outputs": [],
   "source": [
    "df_seen = pd.read_csv('./seen.csv',header=None,names=['job_link'])\n"
   ]
  },
  {
   "cell_type": "code",
   "execution_count": 188,
   "metadata": {},
   "outputs": [
    {
     "data": {
      "text/html": [
       "<div>\n",
       "<style scoped>\n",
       "    .dataframe tbody tr th:only-of-type {\n",
       "        vertical-align: middle;\n",
       "    }\n",
       "\n",
       "    .dataframe tbody tr th {\n",
       "        vertical-align: top;\n",
       "    }\n",
       "\n",
       "    .dataframe thead th {\n",
       "        text-align: right;\n",
       "    }\n",
       "</style>\n",
       "<table border=\"1\" class=\"dataframe\">\n",
       "  <thead>\n",
       "    <tr style=\"text-align: right;\">\n",
       "      <th></th>\n",
       "      <th>job_link</th>\n",
       "    </tr>\n",
       "  </thead>\n",
       "  <tbody>\n",
       "    <tr>\n",
       "      <th>0</th>\n",
       "      <td>https://nvidia.wd5.myworkdayjobs.com/en-US/NVI...</td>\n",
       "    </tr>\n",
       "    <tr>\n",
       "      <th>1</th>\n",
       "      <td>https://nvidia.wd5.myworkdayjobs.com/en-US/NVI...</td>\n",
       "    </tr>\n",
       "    <tr>\n",
       "      <th>2</th>\n",
       "      <td>https://jobs.apple.com/en-us/details/200495908</td>\n",
       "    </tr>\n",
       "    <tr>\n",
       "      <th>3</th>\n",
       "      <td>https://recharge.recruitee.com/o/senior-produc...</td>\n",
       "    </tr>\n",
       "    <tr>\n",
       "      <th>4</th>\n",
       "      <td>https://www.mendel.ai/careers?gh_jid=4935548004</td>\n",
       "    </tr>\n",
       "  </tbody>\n",
       "</table>\n",
       "</div>"
      ],
      "text/plain": [
       "                                            job_link\n",
       "0  https://nvidia.wd5.myworkdayjobs.com/en-US/NVI...\n",
       "1  https://nvidia.wd5.myworkdayjobs.com/en-US/NVI...\n",
       "2     https://jobs.apple.com/en-us/details/200495908\n",
       "3  https://recharge.recruitee.com/o/senior-produc...\n",
       "4    https://www.mendel.ai/careers?gh_jid=4935548004"
      ]
     },
     "execution_count": 188,
     "metadata": {},
     "output_type": "execute_result"
    }
   ],
   "source": [
    "df_seen.head()"
   ]
  },
  {
   "cell_type": "code",
   "execution_count": 190,
   "metadata": {},
   "outputs": [],
   "source": [
    "df_seen[\"job_link\"] = df_seen[\"job_link\"].apply(clean_url)"
   ]
  },
  {
   "cell_type": "code",
   "execution_count": 194,
   "metadata": {},
   "outputs": [],
   "source": [
    "urls = df_seen[\"job_link\"].unique()"
   ]
  },
  {
   "cell_type": "code",
   "execution_count": 198,
   "metadata": {},
   "outputs": [],
   "source": [
    "df_seen.drop_duplicates(subset=['job_link'],inplace=True)"
   ]
  },
  {
   "cell_type": "markdown",
   "metadata": {},
   "source": [
    "Populate job_id from job_links using the production database table"
   ]
  },
  {
   "cell_type": "code",
   "execution_count": 201,
   "metadata": {},
   "outputs": [],
   "source": [
    "with engine.connect() as conn, conn.begin():  \n",
    "    job_df = pd.read_sql_query(\"SELECT id,job_link from job_listings\",conn)"
   ]
  },
  {
   "cell_type": "code",
   "execution_count": 203,
   "metadata": {},
   "outputs": [],
   "source": [
    "df_user = pd.merge(df_seen, job_df, on='job_link', how='inner')\n",
    "df_user"
   ]
  },
  {
   "cell_type": "code",
   "execution_count": 207,
   "metadata": {},
   "outputs": [],
   "source": [
    "sql_query = text('''INSERT INTO user_jobs (user_id,job_id) VALUES (1,:id)''')\n",
    "with engine.connect() as conn:\n",
    "    conn.execute(sql_query,df_user[['id']].to_dict('records'))\n",
    "    conn.commit()"
   ]
  },
  {
   "cell_type": "code",
   "execution_count": null,
   "metadata": {},
   "outputs": [],
   "source": []
  }
 ],
 "metadata": {
  "kernelspec": {
   "display_name": "hangman-yTvjE4QN-py3.11",
   "language": "python",
   "name": "python3"
  },
  "language_info": {
   "codemirror_mode": {
    "name": "ipython",
    "version": 3
   },
   "file_extension": ".py",
   "mimetype": "text/x-python",
   "name": "python",
   "nbconvert_exporter": "python",
   "pygments_lexer": "ipython3",
   "version": "3.11.4"
  },
  "orig_nbformat": 4
 },
 "nbformat": 4,
 "nbformat_minor": 2
}
